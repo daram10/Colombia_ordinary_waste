{
 "cells": [
  {
   "cell_type": "markdown",
   "id": "0442dd99",
   "metadata": {},
   "source": [
    "## Packages & Databases"
   ]
  },
  {
   "cell_type": "code",
   "execution_count": 1,
   "id": "ce6624f5",
   "metadata": {},
   "outputs": [],
   "source": [
    "# Imports the necessary libraries\n",
    "import pandas as pd\n",
    "# It comes from final_data_month.csv\n",
    "df1 = pd.read_csv(\"data2/SMALL_final_data_month.csv\",sep=',',index_col=0)"
   ]
  },
  {
   "cell_type": "code",
   "execution_count": 2,
   "id": "4f67e610",
   "metadata": {},
   "outputs": [
    {
     "data": {
      "text/plain": [
       "Index(['AÑO', 'Departamento', 'TONELADAS APROVECHADAS',\n",
       "       'TONELADAS DE RESIDUOS', 'Total', 'kg_percapita_apro',\n",
       "       'kg_percapita_noapro'],\n",
       "      dtype='object')"
      ]
     },
     "execution_count": 2,
     "metadata": {},
     "output_type": "execute_result"
    }
   ],
   "source": [
    "df1.columns"
   ]
  },
  {
   "cell_type": "markdown",
   "id": "599a867c",
   "metadata": {},
   "source": [
    "## Data"
   ]
  },
  {
   "cell_type": "code",
   "execution_count": 3,
   "id": "c45b6200",
   "metadata": {},
   "outputs": [
    {
     "data": {
      "text/html": [
       "<div>\n",
       "<style scoped>\n",
       "    .dataframe tbody tr th:only-of-type {\n",
       "        vertical-align: middle;\n",
       "    }\n",
       "\n",
       "    .dataframe tbody tr th {\n",
       "        vertical-align: top;\n",
       "    }\n",
       "\n",
       "    .dataframe thead th {\n",
       "        text-align: right;\n",
       "    }\n",
       "</style>\n",
       "<table border=\"1\" class=\"dataframe\">\n",
       "  <thead>\n",
       "    <tr style=\"text-align: right;\">\n",
       "      <th></th>\n",
       "      <th>AÑO</th>\n",
       "      <th>Departamento</th>\n",
       "      <th>TONELADAS APROVECHADAS</th>\n",
       "      <th>TONELADAS DE RESIDUOS</th>\n",
       "      <th>Total</th>\n",
       "      <th>kg_percapita_apro</th>\n",
       "      <th>kg_percapita_noapro</th>\n",
       "    </tr>\n",
       "  </thead>\n",
       "  <tbody>\n",
       "    <tr>\n",
       "      <th>0</th>\n",
       "      <td>2016</td>\n",
       "      <td>ANTIOQUIA</td>\n",
       "      <td>11739.75818</td>\n",
       "      <td>580790.056</td>\n",
       "      <td>3465111</td>\n",
       "      <td>3.387989</td>\n",
       "      <td>167.610808</td>\n",
       "    </tr>\n",
       "  </tbody>\n",
       "</table>\n",
       "</div>"
      ],
      "text/plain": [
       "    AÑO Departamento  TONELADAS APROVECHADAS  TONELADAS DE RESIDUOS    Total  \\\n",
       "0  2016    ANTIOQUIA             11739.75818             580790.056  3465111   \n",
       "\n",
       "   kg_percapita_apro  kg_percapita_noapro  \n",
       "0           3.387989           167.610808  "
      ]
     },
     "execution_count": 3,
     "metadata": {},
     "output_type": "execute_result"
    }
   ],
   "source": [
    "df1.head(1)"
   ]
  },
  {
   "cell_type": "code",
   "execution_count": 4,
   "id": "c5659113",
   "metadata": {},
   "outputs": [
    {
     "data": {
      "text/html": [
       "<div>\n",
       "<style scoped>\n",
       "    .dataframe tbody tr th:only-of-type {\n",
       "        vertical-align: middle;\n",
       "    }\n",
       "\n",
       "    .dataframe tbody tr th {\n",
       "        vertical-align: top;\n",
       "    }\n",
       "\n",
       "    .dataframe thead th {\n",
       "        text-align: right;\n",
       "    }\n",
       "</style>\n",
       "<table border=\"1\" class=\"dataframe\">\n",
       "  <thead>\n",
       "    <tr style=\"text-align: right;\">\n",
       "      <th></th>\n",
       "      <th>AÑO</th>\n",
       "      <th>Departamento</th>\n",
       "      <th>kg_per_capita</th>\n",
       "    </tr>\n",
       "  </thead>\n",
       "  <tbody>\n",
       "    <tr>\n",
       "      <th>0</th>\n",
       "      <td>2016</td>\n",
       "      <td>ANTIOQUIA</td>\n",
       "      <td>167.610808</td>\n",
       "    </tr>\n",
       "    <tr>\n",
       "      <th>1</th>\n",
       "      <td>2016</td>\n",
       "      <td>ATLANTICO</td>\n",
       "      <td>248.272672</td>\n",
       "    </tr>\n",
       "    <tr>\n",
       "      <th>2</th>\n",
       "      <td>2016</td>\n",
       "      <td>BOGOTA, D.C.</td>\n",
       "      <td>208.238645</td>\n",
       "    </tr>\n",
       "    <tr>\n",
       "      <th>3</th>\n",
       "      <td>2016</td>\n",
       "      <td>BOLIVAR</td>\n",
       "      <td>142.336150</td>\n",
       "    </tr>\n",
       "    <tr>\n",
       "      <th>4</th>\n",
       "      <td>2016</td>\n",
       "      <td>BOYACA</td>\n",
       "      <td>49.864790</td>\n",
       "    </tr>\n",
       "    <tr>\n",
       "      <th>5</th>\n",
       "      <td>2016</td>\n",
       "      <td>CALDAS</td>\n",
       "      <td>140.040216</td>\n",
       "    </tr>\n",
       "    <tr>\n",
       "      <th>6</th>\n",
       "      <td>2016</td>\n",
       "      <td>CAUCA</td>\n",
       "      <td>182.182765</td>\n",
       "    </tr>\n",
       "    <tr>\n",
       "      <th>7</th>\n",
       "      <td>2016</td>\n",
       "      <td>CESAR</td>\n",
       "      <td>192.917338</td>\n",
       "    </tr>\n",
       "    <tr>\n",
       "      <th>8</th>\n",
       "      <td>2016</td>\n",
       "      <td>CORDOBA</td>\n",
       "      <td>166.111327</td>\n",
       "    </tr>\n",
       "    <tr>\n",
       "      <th>9</th>\n",
       "      <td>2016</td>\n",
       "      <td>CUNDINAMARCA</td>\n",
       "      <td>63.731566</td>\n",
       "    </tr>\n",
       "    <tr>\n",
       "      <th>10</th>\n",
       "      <td>2016</td>\n",
       "      <td>LA GUAJIRA</td>\n",
       "      <td>77.988894</td>\n",
       "    </tr>\n",
       "    <tr>\n",
       "      <th>11</th>\n",
       "      <td>2016</td>\n",
       "      <td>MAGDALENA</td>\n",
       "      <td>280.213030</td>\n",
       "    </tr>\n",
       "    <tr>\n",
       "      <th>12</th>\n",
       "      <td>2016</td>\n",
       "      <td>RISARALDA</td>\n",
       "      <td>209.828444</td>\n",
       "    </tr>\n",
       "    <tr>\n",
       "      <th>13</th>\n",
       "      <td>2016</td>\n",
       "      <td>SANTANDER</td>\n",
       "      <td>260.309056</td>\n",
       "    </tr>\n",
       "    <tr>\n",
       "      <th>14</th>\n",
       "      <td>2016</td>\n",
       "      <td>VALLE DEL CAUCA</td>\n",
       "      <td>64.647556</td>\n",
       "    </tr>\n",
       "    <tr>\n",
       "      <th>15</th>\n",
       "      <td>2017</td>\n",
       "      <td>ANTIOQUIA</td>\n",
       "      <td>236.619626</td>\n",
       "    </tr>\n",
       "    <tr>\n",
       "      <th>16</th>\n",
       "      <td>2017</td>\n",
       "      <td>ATLANTICO</td>\n",
       "      <td>223.479979</td>\n",
       "    </tr>\n",
       "    <tr>\n",
       "      <th>17</th>\n",
       "      <td>2017</td>\n",
       "      <td>BOGOTA, D.C.</td>\n",
       "      <td>307.635082</td>\n",
       "    </tr>\n",
       "    <tr>\n",
       "      <th>18</th>\n",
       "      <td>2017</td>\n",
       "      <td>BOLIVAR</td>\n",
       "      <td>434.008724</td>\n",
       "    </tr>\n",
       "    <tr>\n",
       "      <th>19</th>\n",
       "      <td>2017</td>\n",
       "      <td>BOYACA</td>\n",
       "      <td>149.251818</td>\n",
       "    </tr>\n",
       "  </tbody>\n",
       "</table>\n",
       "</div>"
      ],
      "text/plain": [
       "     AÑO     Departamento  kg_per_capita\n",
       "0   2016        ANTIOQUIA     167.610808\n",
       "1   2016        ATLANTICO     248.272672\n",
       "2   2016     BOGOTA, D.C.     208.238645\n",
       "3   2016          BOLIVAR     142.336150\n",
       "4   2016           BOYACA      49.864790\n",
       "5   2016           CALDAS     140.040216\n",
       "6   2016            CAUCA     182.182765\n",
       "7   2016            CESAR     192.917338\n",
       "8   2016          CORDOBA     166.111327\n",
       "9   2016     CUNDINAMARCA      63.731566\n",
       "10  2016       LA GUAJIRA      77.988894\n",
       "11  2016        MAGDALENA     280.213030\n",
       "12  2016        RISARALDA     209.828444\n",
       "13  2016        SANTANDER     260.309056\n",
       "14  2016  VALLE DEL CAUCA      64.647556\n",
       "15  2017        ANTIOQUIA     236.619626\n",
       "16  2017        ATLANTICO     223.479979\n",
       "17  2017     BOGOTA, D.C.     307.635082\n",
       "18  2017          BOLIVAR     434.008724\n",
       "19  2017           BOYACA     149.251818"
      ]
     },
     "execution_count": 4,
     "metadata": {},
     "output_type": "execute_result"
    }
   ],
   "source": [
    "# Renames column kg_percapita_noapro\n",
    "df1.rename(columns= {\"kg_percapita_noapro\":\"kg_per_capita\"}, inplace = True)\n",
    "\n",
    "# Saves the full dataset\n",
    "# df1.to_csv(\"data2/ton_dis_per_capita.csv\")\n",
    "\n",
    "# Selects the desired columns from the full dataset and creates a subset\n",
    "df2= df1.groupby([\"AÑO\", \"Departamento\"]).sum()[\"kg_per_capita\"].to_frame().reset_index()\n",
    "df2.to_csv(\"graphs/DISPOSED_MAPS/data/disposed_percapita_2016-2021.csv\")\n",
    "df2.head(20)"
   ]
  }
 ],
 "metadata": {
  "kernelspec": {
   "display_name": "Python 3",
   "language": "python",
   "name": "python3"
  },
  "language_info": {
   "codemirror_mode": {
    "name": "ipython",
    "version": 3
   },
   "file_extension": ".py",
   "mimetype": "text/x-python",
   "name": "python",
   "nbconvert_exporter": "python",
   "pygments_lexer": "ipython3",
   "version": "3.8.8"
  },
  "varInspector": {
   "cols": {
    "lenName": 16,
    "lenType": 16,
    "lenVar": 40
   },
   "kernels_config": {
    "python": {
     "delete_cmd_postfix": "",
     "delete_cmd_prefix": "del ",
     "library": "var_list.py",
     "varRefreshCmd": "print(var_dic_list())"
    },
    "r": {
     "delete_cmd_postfix": ") ",
     "delete_cmd_prefix": "rm(",
     "library": "var_list.r",
     "varRefreshCmd": "cat(var_dic_list()) "
    }
   },
   "types_to_exclude": [
    "module",
    "function",
    "builtin_function_or_method",
    "instance",
    "_Feature"
   ],
   "window_display": false
  }
 },
 "nbformat": 4,
 "nbformat_minor": 5
}
